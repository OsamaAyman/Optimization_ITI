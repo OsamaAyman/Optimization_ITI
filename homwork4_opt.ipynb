{
 "cells": [
  {
   "cell_type": "code",
   "execution_count": 14,
   "metadata": {},
   "outputs": [],
   "source": [
    "import numpy as np\n",
    "from sklearn.metrics import r2_score"
   ]
  },
  {
   "cell_type": "code",
   "execution_count": 15,
   "metadata": {},
   "outputs": [],
   "source": [
    "class adagrad:\n",
    "    def __init__(self):\n",
    "        self.trained=False\n",
    "        \n",
    "    \n",
    "    def calc_error(self,y,y_hat):\n",
    "        return sum((y_hat-y)**2)/len(y)\n",
    "    \n",
    "    \n",
    "    def  __hypo(self,x,b):\n",
    "        return x@b\n",
    "    \n",
    "    def  __gradient(self,x,y,h):\n",
    "        return (1/len(h))*(x.T@(h-y))\n",
    "    \n",
    "    def train(self,x,y,alpha,epslon,iteration):\n",
    "        x=np.insert(x,0,np.ones(len(x)),1)\n",
    "        self.b=np.zeros(x.shape[1])\n",
    "        self.trained=True\n",
    "        v=0\n",
    "        for i in range(iteration):\n",
    "            h=self.__hypo(x,self.b)\n",
    "            grad=self.__gradient(x,y,h)\n",
    "            v=v+grad**2\n",
    "            adaptive=alpha/(np.sqrt(v)+epslon)\n",
    "            self.b=self.b-adaptive*grad\n",
    "        \n",
    "    def predict(self,x):\n",
    "        x=np.insert(x,0,np.ones(len(x)),1)\n",
    "        if self.trained:\n",
    "            return self.__hypo(x,self.b)\n",
    "        else:\n",
    "            return print(\"Please train model before predict value\")"
   ]
  },
  {
   "cell_type": "code",
   "execution_count": 71,
   "metadata": {},
   "outputs": [],
   "source": [
    "class rms:\n",
    "    def __init__(self):\n",
    "        self.trained=False\n",
    "        \n",
    "    \n",
    "    def calc_error(self,y,y_hat):\n",
    "        return sum((y_hat-y)**2)/len(y)\n",
    "    \n",
    "    \n",
    "    def  __hypo(self,x,b):\n",
    "        return x@b\n",
    "    \n",
    "    def  __gradient(self,x,y,h):\n",
    "        return (1/len(h))*(x.T@(h-y))\n",
    "    \n",
    "    def train(self,x,y,alpha,epslon,peta,iteration):\n",
    "        x=np.insert(x,0,np.ones(len(x)),1)\n",
    "        self.b=np.zeros(x.shape[1])\n",
    "        self.trained=True\n",
    "        v=0\n",
    "        for i in range(iteration):\n",
    "            h=self.__hypo(x,self.b)\n",
    "            grad=self.__gradient(x,y,h)\n",
    "            v=peta*v+(1-peta)*grad**2\n",
    "            adaptive=alpha/(np.sqrt(v)+epslon)\n",
    "            self.b=self.b-adaptive*grad\n",
    "        \n",
    "    def predict(self,x):\n",
    "        x=np.insert(x,0,np.ones(len(x)),1)\n",
    "        if self.trained:\n",
    "            return self.__hypo(x,self.b)\n",
    "        else:\n",
    "            return print(\"Please train model before predict value\")"
   ]
  },
  {
   "cell_type": "code",
   "execution_count": 86,
   "metadata": {},
   "outputs": [],
   "source": [
    "class adam:\n",
    "    def __init__(self):\n",
    "        self.trained=False\n",
    "        \n",
    "    \n",
    "    def calc_error(self,y,y_hat):\n",
    "        return sum((y_hat-y)**2)/len(y)\n",
    "    \n",
    "    \n",
    "    def  __hypo(self,x,b):\n",
    "        return x@b\n",
    "    \n",
    "    def  __gradient(self,x,y,h):\n",
    "        return (1/len(h))*(x.T@(h-y))\n",
    "    \n",
    "    def train(self,x,y,alpha,epslon,peta1,peta2,iteration):\n",
    "        x=np.insert(x,0,np.ones(len(x)),1)\n",
    "        self.b=np.zeros(x.shape[1])\n",
    "        self.trained=True\n",
    "        v=0\n",
    "        m=0\n",
    "        for i in range(iteration):\n",
    "            h=self.__hypo(x,self.b)\n",
    "            grad=self.__gradient(x,y,h)\n",
    "            m=(peta1*m)+((1-peta1)*grad)\n",
    "            v=(peta2*v)+((1-peta2)*grad**2)\n",
    "            m=m/(1-peta1**(i+1))\n",
    "            v=v/(1-peta2**(i+1))\n",
    "            adaptive=alpha/(np.sqrt(v)+epslon)\n",
    "            self.b=self.b-adaptive*m\n",
    "        \n",
    "    def predict(self,x):\n",
    "        x=np.insert(x,0,np.ones(len(x)),1)\n",
    "        if self.trained:\n",
    "            return self.__hypo(x,self.b)\n",
    "        else:\n",
    "            return print(\"Please train model before predict value\")"
   ]
  },
  {
   "cell_type": "code",
   "execution_count": 87,
   "metadata": {},
   "outputs": [],
   "source": [
    "data=np.genfromtxt(\"student_scores.csv\", delimiter=',',skip_header=1)\n",
    "x=data[:,:-1]\n",
    "y=data[:,-1]"
   ]
  },
  {
   "cell_type": "code",
   "execution_count": 69,
   "metadata": {},
   "outputs": [
    {
     "data": {
      "text/plain": [
       "0.9289153104761361"
      ]
     },
     "execution_count": 69,
     "metadata": {},
     "output_type": "execute_result"
    }
   ],
   "source": [
    "#ADAGRAD train\n",
    "alpha=0.1\n",
    "iteration=5000\n",
    "epslon=1e-8\n",
    "lr_model=adagrad()\n",
    "lr_model.train(x,y,alpha,epslon,iteration)\n",
    "y_hat=lr_model.predict(x)\n",
    "r2_score(y, y_hat)"
   ]
  },
  {
   "cell_type": "code",
   "execution_count": 74,
   "metadata": {},
   "outputs": [
    {
     "data": {
      "text/plain": [
       "0.9527760651676803"
      ]
     },
     "execution_count": 74,
     "metadata": {},
     "output_type": "execute_result"
    }
   ],
   "source": [
    "#RMSPROP train\n",
    "alpha=0.1\n",
    "iteration=5000\n",
    "epslon=1e-8\n",
    "peta=0.98\n",
    "lr_model=rms()\n",
    "lr_model.train(x,y,alpha,epslon,peta,iteration)\n",
    "y_hat=lr_model.predict(x)\n",
    "r2_score(y, y_hat)"
   ]
  },
  {
   "cell_type": "code",
   "execution_count": 94,
   "metadata": {},
   "outputs": [
    {
     "data": {
      "text/plain": [
       "0.9529475822224596"
      ]
     },
     "execution_count": 94,
     "metadata": {},
     "output_type": "execute_result"
    }
   ],
   "source": [
    "#ADAM train\n",
    "alpha=0.1\n",
    "iteration=50000\n",
    "epslon=1e-8\n",
    "peta1=0.9\n",
    "peta2=0.99\n",
    "lr_model=adam()\n",
    "lr_model.train(x,y,alpha,epslon,peta1,peta2,iteration)\n",
    "y_hat=lr_model.predict(x)\n",
    "r2_score(y, y_hat)"
   ]
  },
  {
   "cell_type": "code",
   "execution_count": null,
   "metadata": {},
   "outputs": [],
   "source": []
  }
 ],
 "metadata": {
  "kernelspec": {
   "display_name": "Python 3",
   "language": "python",
   "name": "python3"
  },
  "language_info": {
   "codemirror_mode": {
    "name": "ipython",
    "version": 3
   },
   "file_extension": ".py",
   "mimetype": "text/x-python",
   "name": "python",
   "nbconvert_exporter": "python",
   "pygments_lexer": "ipython3",
   "version": "3.8.7"
  }
 },
 "nbformat": 4,
 "nbformat_minor": 4
}
